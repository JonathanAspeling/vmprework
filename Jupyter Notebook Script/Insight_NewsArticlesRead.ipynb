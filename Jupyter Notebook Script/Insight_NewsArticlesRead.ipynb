{
 "cells": [
  {
   "cell_type": "code",
   "execution_count": 1,
   "metadata": {},
   "outputs": [],
   "source": [
    "import pandas as pd # Package for more progressive data objects, DataFrames.\n",
    "import numpy as np # Maths package for more advanced numericle functions and supportive to Pandas\n",
    "import matplotlib.pyplot as plt # Visual Package"
   ]
  },
  {
   "cell_type": "code",
   "execution_count": 2,
   "metadata": {},
   "outputs": [],
   "source": [
    "filepath = r\"C:\\Users\\Jonathan McAwesome\\Dropbox\\Projects\\vmprework\\Source Documentation\\Data intern test (1).xlsx\"\n",
    "raw_df = pd.read_excel(filepath)"
   ]
  },
  {
   "cell_type": "code",
   "execution_count": 3,
   "metadata": {},
   "outputs": [
    {
     "data": {
      "text/html": [
       "<div>\n",
       "<style scoped>\n",
       "    .dataframe tbody tr th:only-of-type {\n",
       "        vertical-align: middle;\n",
       "    }\n",
       "\n",
       "    .dataframe tbody tr th {\n",
       "        vertical-align: top;\n",
       "    }\n",
       "\n",
       "    .dataframe thead th {\n",
       "        text-align: right;\n",
       "    }\n",
       "</style>\n",
       "<table border=\"1\" class=\"dataframe\">\n",
       "  <thead>\n",
       "    <tr style=\"text-align: right;\">\n",
       "      <th></th>\n",
       "      <th>vicinity_id</th>\n",
       "      <th>created_at</th>\n",
       "      <th>url</th>\n",
       "    </tr>\n",
       "  </thead>\n",
       "  <tbody>\n",
       "    <tr>\n",
       "      <th>0</th>\n",
       "      <td>b6244175-d568-4913-9a18-49d1db05e491</td>\n",
       "      <td>2019-12-17 08:00:00</td>\n",
       "      <td>https://www.timeslive.co.za/tshisa-live/tshisa...</td>\n",
       "    </tr>\n",
       "    <tr>\n",
       "      <th>1</th>\n",
       "      <td>2ce61236-438b-49f8-b385-42210ef00a24</td>\n",
       "      <td>2019-12-17 08:00:00</td>\n",
       "      <td>https://www.timeslive.co.za/</td>\n",
       "    </tr>\n",
       "    <tr>\n",
       "      <th>2</th>\n",
       "      <td>73cc1a66-7e8d-49b9-9b9c-24ad108d7b09</td>\n",
       "      <td>2019-12-17 08:00:02</td>\n",
       "      <td>https://www.timeslive.co.za/news/south-africa/...</td>\n",
       "    </tr>\n",
       "    <tr>\n",
       "      <th>3</th>\n",
       "      <td>e421b5a2-b07b-42b0-a227-0eea7d1a70e4</td>\n",
       "      <td>2019-12-17 08:00:00</td>\n",
       "      <td>https://www.timeslive.co.za/news/south-africa/...</td>\n",
       "    </tr>\n",
       "    <tr>\n",
       "      <th>4</th>\n",
       "      <td>49ada878-e767-42df-a357-bf5e92528b8b</td>\n",
       "      <td>2019-12-17 08:00:00</td>\n",
       "      <td>https://www.timeslive.co.za/</td>\n",
       "    </tr>\n",
       "  </tbody>\n",
       "</table>\n",
       "</div>"
      ],
      "text/plain": [
       "                            vicinity_id          created_at  \\\n",
       "0  b6244175-d568-4913-9a18-49d1db05e491 2019-12-17 08:00:00   \n",
       "1  2ce61236-438b-49f8-b385-42210ef00a24 2019-12-17 08:00:00   \n",
       "2  73cc1a66-7e8d-49b9-9b9c-24ad108d7b09 2019-12-17 08:00:02   \n",
       "3  e421b5a2-b07b-42b0-a227-0eea7d1a70e4 2019-12-17 08:00:00   \n",
       "4  49ada878-e767-42df-a357-bf5e92528b8b 2019-12-17 08:00:00   \n",
       "\n",
       "                                                 url  \n",
       "0  https://www.timeslive.co.za/tshisa-live/tshisa...  \n",
       "1                       https://www.timeslive.co.za/  \n",
       "2  https://www.timeslive.co.za/news/south-africa/...  \n",
       "3  https://www.timeslive.co.za/news/south-africa/...  \n",
       "4                       https://www.timeslive.co.za/  "
      ]
     },
     "execution_count": 3,
     "metadata": {},
     "output_type": "execute_result"
    }
   ],
   "source": [
    "# Getting a sense of the data\n",
    "raw_df.head()"
   ]
  },
  {
   "cell_type": "code",
   "execution_count": 4,
   "metadata": {},
   "outputs": [
    {
     "name": "stdout",
     "output_type": "stream",
     "text": [
      "<class 'pandas.core.frame.DataFrame'>\n",
      "RangeIndex: 50471 entries, 0 to 50470\n",
      "Data columns (total 3 columns):\n",
      "vicinity_id    50471 non-null object\n",
      "created_at     50471 non-null datetime64[ns]\n",
      "url            50471 non-null object\n",
      "dtypes: datetime64[ns](1), object(2)\n",
      "memory usage: 1.2+ MB\n"
     ]
    }
   ],
   "source": [
    "# Getting a sense of the data\n",
    "raw_df.info()"
   ]
  },
  {
   "cell_type": "code",
   "execution_count": 5,
   "metadata": {},
   "outputs": [
    {
     "name": "stdout",
     "output_type": "stream",
     "text": [
      "2019-12-17 08:00:00\n",
      "2019-12-17 09:00:00\n"
     ]
    }
   ],
   "source": [
    "# Checking that the time stamped data only falls within the paramaters given by brief.\n",
    "print(min(raw_df['created_at']))\n",
    "print(max(raw_df['created_at']))"
   ]
  },
  {
   "cell_type": "code",
   "execution_count": 6,
   "metadata": {},
   "outputs": [],
   "source": [
    "# Need to remove ID's not apearing at least 3 times\n",
    "\n",
    "# Best way to get value counts from DataFram Column - Stack Overflow Reading:\n",
    "# https://stackoverflow.com/questions/22320356/pandas-get-values-from-column-that-appear-more-than-x-times/22320567\n",
    "\n",
    "# Is in as filter criteria using Pandas\n",
    "# https://stackoverflow.com/questions/48628417/how-to-select-rows-in-pandas-dataframe-where-value-appears-more-than-once\n",
    "\n",
    "url_cnts = raw_df.vicinity_id.value_counts()\n",
    "url_cnts[url_cnts >= 3].index\n",
    "regular_user_df = raw_df[raw_df.vicinity_id.isin(url_cnts[url_cnts>=3].index)]"
   ]
  },
  {
   "cell_type": "code",
   "execution_count": 7,
   "metadata": {},
   "outputs": [],
   "source": [
    "# Remove hits on the base url as they don't reveal article viewed information\n",
    "regular_user_df = regular_user_df[regular_user_df['url']!=\"https://www.timeslive.co.za/\"]"
   ]
  },
  {
   "cell_type": "code",
   "execution_count": 8,
   "metadata": {},
   "outputs": [],
   "source": [
    "# Noted that I can cut out the catagory of articles read from the URL's\n",
    "\n",
    "# Foundation testing for function \n",
    "test_url = \"https://www.timeslive.co.za/tshisa-live/tshis/\"\n",
    "base_url = \"https://www.timeslive.co.za/\"\n",
    "lenght_base_url = len(base_url)\n",
    "cat_end = test_url.find(\"/\",lenght_base_url)\n",
    "test_url[lenght_base_url:cat_end]\n",
    "\n",
    "def GET_CATAGORY(string_ip):\n",
    "    \n",
    "    cat_end = string_ip.find(\"/\",lenght_base_url)\n",
    "    return string_ip[lenght_base_url:cat_end]\n",
    "    \n",
    "\n",
    "    \n",
    "# Foundation for testing function\n",
    "test_url.count(\"/\")\n",
    "\n",
    "def GET_LASTURLPART(string_ip):\n",
    "    x = 0\n",
    "    y = 0\n",
    "    list_a = []\n",
    "    while x < string_ip.count(\"/\"):\n",
    "        \n",
    "        y = string_ip.find(\"/\",y)+1\n",
    "        list_a.append(y)\n",
    "        x = x+1\n",
    "    \n",
    "    start, stop = list_a[-2:]\n",
    "    \n",
    "    return string_ip[start:stop-1]\n",
    "\n",
    "\n"
   ]
  },
  {
   "cell_type": "code",
   "execution_count": 9,
   "metadata": {},
   "outputs": [],
   "source": [
    "# Return count of catagories hit by these regular users\n",
    "regular_user_df['cleanedurl'] = regular_user_df['url'].apply(GET_CATAGORY)\n",
    "# Store top five article catagories hit\n",
    "top_five_catagories = regular_user_df.cleanedurl.value_counts()[0:5]"
   ]
  },
  {
   "cell_type": "code",
   "execution_count": 10,
   "metadata": {},
   "outputs": [],
   "source": [
    "# Return count of articles hit by these regular users\n",
    "regular_user_df['article'] = regular_user_df['url'].apply(GET_LASTURLPART)\n",
    "# Store top five article hits\n",
    "top_five_articles = regular_user_df.article.value_counts()[0:5].sort_values()\n"
   ]
  },
  {
   "cell_type": "markdown",
   "metadata": {},
   "source": [
    "## Visualization \n",
    "<br>\n"
   ]
  },
  {
   "cell_type": "code",
   "execution_count": 11,
   "metadata": {},
   "outputs": [
    {
     "data": {
      "image/png": "[encoded data removed]",
      "text/plain": [
       "<Figure size 648x216 with 1 Axes>"
      ]
     },
     "metadata": {
      "needs_background": "light"
     },
     "output_type": "display_data"
    }
   ],
   "source": [
    "# Visual Top 5 Catagories\n",
    "names = top_five_catagories.index\n",
    "values = top_five_catagories.values\n",
    "\n",
    "plt.figure(figsize=(9, 3))\n",
    "\n",
    "\n",
    "plt.bar(names, values)\n",
    "\n",
    "plt.suptitle('Top 5 Article Catagories Activity')\n",
    "plt.show()"
   ]
  },
  {
   "cell_type": "code",
   "execution_count": 12,
   "metadata": {},
   "outputs": [
    {
     "data": {
      "text/plain": [
       "<BarContainer object of 5 artists>"
      ]
     },
     "execution_count": 12,
     "metadata": {},
     "output_type": "execute_result"
    },
    {
     "data": {
      "image/png": "[encoded data removed]",
      "text/plain": [
       "<Figure size 432x288 with 1 Axes>"
      ]
     },
     "metadata": {
      "needs_background": "light"
     },
     "output_type": "display_data"
    }
   ],
   "source": [
    "names_art = list(top_five_articles.index)\n",
    "\n",
    "#Clean Names of Articles\n",
    "a = 0\n",
    "for i in names_art:\n",
    "\n",
    "    names_art[a] = i[11:].replace(\"-\",\" \").title()\n",
    "    a = a+1\n",
    "\n",
    "values_art = top_five_articles.values\n",
    "fig, ax = plt.subplots()\n",
    "plt.suptitle(\"Top 5 Articles\")\n",
    "ax.barh(names_art, values_art)"
   ]
  }
 ],
 "metadata": {
  "kernelspec": {
   "display_name": "Python 3",
   "language": "python",
   "name": "python3"
  },
  "language_info": {
   "codemirror_mode": {
    "name": "ipython",
    "version": 3
   },
   "file_extension": ".py",
   "mimetype": "text/x-python",
   "name": "python",
   "nbconvert_exporter": "python",
   "pygments_lexer": "ipython3",
   "version": "3.7.3"
  }
 },
 "nbformat": 4,
 "nbformat_minor": 2
}
